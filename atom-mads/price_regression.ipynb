{
 "cells": [
  {
   "cell_type": "code",
   "execution_count": 2,
   "metadata": {},
   "outputs": [],
   "source": [
    "import pandas as pd\n",
    "import numpy as np\n",
    "import matplotlib as plt\n",
    "import torch\n",
    "\n",
    "from sentence_transformers import SentenceTransformer\n",
    "\n",
    "from sklearn.model_selection import train_test_split\n",
    "from sklearn.linear_model import LinearRegression\n",
    "from catboost import CatBoostRegressor\n",
    "\n",
    "from sklearn.metrics import mean_absolute_error, mean_squared_error\n",
    "\n",
    "from tensorflow import keras\n",
    "from tensorflow.keras import layers\n",
    "from tensorflow.keras import layers, models, optimizers\n",
    "from tqdm import tqdm"
   ]
  },
  {
   "cell_type": "code",
   "execution_count": 286,
   "metadata": {},
   "outputs": [
    {
     "name": "stdout",
     "output_type": "stream",
     "text": [
      "<class 'pandas.core.frame.DataFrame'>\n",
      "Int64Index: 608 entries, 0 to 607\n",
      "Data columns (total 6 columns):\n",
      " #   Column          Non-Null Count  Dtype         \n",
      "---  ------          --------------  -----         \n",
      " 0   text            608 non-null    object        \n",
      " 1   CGN             608 non-null    object        \n",
      " 2   meta            608 non-null    object        \n",
      " 3   date            608 non-null    datetime64[ns]\n",
      " 4   candidate_type  608 non-null    object        \n",
      " 5   candidate_name  607 non-null    object        \n",
      "dtypes: datetime64[ns](1), object(5)\n",
      "memory usage: 33.2+ KB\n"
     ]
    }
   ],
   "source": [
    "data_merge = pd.read_csv('data_merge.csv',index_col=[0], parse_dates=[4])\n",
    "data_merge.info()"
   ]
  },
  {
   "cell_type": "code",
   "execution_count": 287,
   "metadata": {},
   "outputs": [
    {
     "data": {
      "text/html": [
       "<div>\n",
       "<style scoped>\n",
       "    .dataframe tbody tr th:only-of-type {\n",
       "        vertical-align: middle;\n",
       "    }\n",
       "\n",
       "    .dataframe tbody tr th {\n",
       "        vertical-align: top;\n",
       "    }\n",
       "\n",
       "    .dataframe thead th {\n",
       "        text-align: right;\n",
       "    }\n",
       "</style>\n",
       "<table border=\"1\" class=\"dataframe\">\n",
       "  <thead>\n",
       "    <tr style=\"text-align: right;\">\n",
       "      <th></th>\n",
       "      <th>text</th>\n",
       "      <th>CGN</th>\n",
       "      <th>meta</th>\n",
       "      <th>date</th>\n",
       "      <th>candidate_type</th>\n",
       "      <th>candidate_name</th>\n",
       "    </tr>\n",
       "  </thead>\n",
       "  <tbody>\n",
       "    <tr>\n",
       "      <th>0</th>\n",
       "      <td>\\n20230731_12345\\nКитайский документ 22-9trans...</td>\n",
       "      <td>202305310008</td>\n",
       "      <td>\\nДата выхода: 2023-08-02\\nВ 2023 году в Китае...</td>\n",
       "      <td>2023-08-02</td>\n",
       "      <td>Владелец</td>\n",
       "      <td>SMS</td>\n",
       "    </tr>\n",
       "    <tr>\n",
       "      <th>1</th>\n",
       "      <td>\\n20230731_12345\\nКитайский документ 85-8trans...</td>\n",
       "      <td>202211140006</td>\n",
       "      <td>\\nДата выхода: 2023-01-16\\nЗакупка оборудовани...</td>\n",
       "      <td>2023-01-16</td>\n",
       "      <td>Разработчик</td>\n",
       "      <td>East Electric Group Eastern Electric Company</td>\n",
       "    </tr>\n",
       "    <tr>\n",
       "      <th>2</th>\n",
       "      <td>\\n20230731_12345\\nКитайский документ 8-8trans....</td>\n",
       "      <td>202307050014</td>\n",
       "      <td>\\nДата выхода: 2023-08-24\\nВ пункте 1 проекта ...</td>\n",
       "      <td>2023-08-24</td>\n",
       "      <td>Разработчик</td>\n",
       "      <td>China Electric Industrial Co. Ltd.</td>\n",
       "    </tr>\n",
       "  </tbody>\n",
       "</table>\n",
       "</div>"
      ],
      "text/plain": [
       "                                                text           CGN  \\\n",
       "0  \\n20230731_12345\\nКитайский документ 22-9trans...  202305310008   \n",
       "1  \\n20230731_12345\\nКитайский документ 85-8trans...  202211140006   \n",
       "2  \\n20230731_12345\\nКитайский документ 8-8trans....  202307050014   \n",
       "\n",
       "                                                meta       date  \\\n",
       "0  \\nДата выхода: 2023-08-02\\nВ 2023 году в Китае... 2023-08-02   \n",
       "1  \\nДата выхода: 2023-01-16\\nЗакупка оборудовани... 2023-01-16   \n",
       "2  \\nДата выхода: 2023-08-24\\nВ пункте 1 проекта ... 2023-08-24   \n",
       "\n",
       "  candidate_type                                 candidate_name  \n",
       "0       Владелец                                            SMS  \n",
       "1    Разработчик   East Electric Group Eastern Electric Company  \n",
       "2    Разработчик             China Electric Industrial Co. Ltd.  "
      ]
     },
     "execution_count": 287,
     "metadata": {},
     "output_type": "execute_result"
    }
   ],
   "source": [
    "data_merge.head(3)"
   ]
  },
  {
   "cell_type": "code",
   "execution_count": 288,
   "metadata": {},
   "outputs": [
    {
     "name": "stdout",
     "output_type": "stream",
     "text": [
      "<class 'pandas.core.frame.DataFrame'>\n",
      "RangeIndex: 608 entries, 0 to 607\n",
      "Data columns (total 6 columns):\n",
      " #   Column          Non-Null Count  Dtype  \n",
      "---  ------          --------------  -----  \n",
      " 0   location        581 non-null    object \n",
      " 1   product         571 non-null    object \n",
      " 2   tender_number   574 non-null    object \n",
      " 3   tender_name     148 non-null    object \n",
      " 4   tender_company  339 non-null    object \n",
      " 5   quantity        1 non-null      float64\n",
      "dtypes: float64(1), object(5)\n",
      "memory usage: 28.6+ KB\n"
     ]
    }
   ],
   "source": [
    "part1 = pd.read_csv('datasets/part_1_BIG_MODELfor_merge.csv')\n",
    "part1.info()"
   ]
  },
  {
   "cell_type": "code",
   "execution_count": 289,
   "metadata": {},
   "outputs": [
    {
     "data": {
      "text/html": [
       "<div>\n",
       "<style scoped>\n",
       "    .dataframe tbody tr th:only-of-type {\n",
       "        vertical-align: middle;\n",
       "    }\n",
       "\n",
       "    .dataframe tbody tr th {\n",
       "        vertical-align: top;\n",
       "    }\n",
       "\n",
       "    .dataframe thead th {\n",
       "        text-align: right;\n",
       "    }\n",
       "</style>\n",
       "<table border=\"1\" class=\"dataframe\">\n",
       "  <thead>\n",
       "    <tr style=\"text-align: right;\">\n",
       "      <th></th>\n",
       "      <th>location</th>\n",
       "      <th>product</th>\n",
       "      <th>tender_number</th>\n",
       "      <th>tender_company</th>\n",
       "    </tr>\n",
       "  </thead>\n",
       "  <tbody>\n",
       "    <tr>\n",
       "      <th>0</th>\n",
       "      <td>Гуандун, Чжунцин, Каннинг</td>\n",
       "      <td>оборудование для замены коробок</td>\n",
       "      <td>CGN-202305310008</td>\n",
       "      <td>Новая энергетическая компания</td>\n",
       "    </tr>\n",
       "    <tr>\n",
       "      <th>1</th>\n",
       "      <td>Немонгольский автономный район, УНИТА, правый ...</td>\n",
       "      <td>оборудование для оптических камер</td>\n",
       "      <td>CGN-202211140006</td>\n",
       "      <td>Новая энергетическая компания</td>\n",
       "    </tr>\n",
       "    <tr>\n",
       "      <th>2</th>\n",
       "      <td>Синьцзян-Уйгурский автономный район и Тэгу, ок...</td>\n",
       "      <td>1 млн. кВт оптико-волнового поля PC</td>\n",
       "      <td>CGN-202307050014</td>\n",
       "      <td>China Solar Energy Successing Ltd.</td>\n",
       "    </tr>\n",
       "  </tbody>\n",
       "</table>\n",
       "</div>"
      ],
      "text/plain": [
       "                                            location  \\\n",
       "0                          Гуандун, Чжунцин, Каннинг   \n",
       "1  Немонгольский автономный район, УНИТА, правый ...   \n",
       "2  Синьцзян-Уйгурский автономный район и Тэгу, ок...   \n",
       "\n",
       "                               product     tender_number  \\\n",
       "0      оборудование для замены коробок  CGN-202305310008   \n",
       "1    оборудование для оптических камер  CGN-202211140006   \n",
       "2  1 млн. кВт оптико-волнового поля PC  CGN-202307050014   \n",
       "\n",
       "                       tender_company  \n",
       "0       Новая энергетическая компания  \n",
       "1       Новая энергетическая компания  \n",
       "2  China Solar Energy Successing Ltd.  "
      ]
     },
     "execution_count": 289,
     "metadata": {},
     "output_type": "execute_result"
    }
   ],
   "source": [
    "part1 = part1.drop(['tender_name', 'quantity'], axis=1)\n",
    "part1.head(3)"
   ]
  },
  {
   "cell_type": "code",
   "execution_count": 290,
   "metadata": {},
   "outputs": [
    {
     "name": "stdout",
     "output_type": "stream",
     "text": [
      "<class 'pandas.core.frame.DataFrame'>\n",
      "RangeIndex: 608 entries, 0 to 607\n",
      "Data columns (total 6 columns):\n",
      " #   Column         Non-Null Count  Dtype \n",
      "---  ------         --------------  ----- \n",
      " 0   description    414 non-null    object\n",
      " 1   requirements   360 non-null    object\n",
      " 2   stages         258 non-null    object\n",
      " 3   delivery_time  316 non-null    object\n",
      " 4   start_date     230 non-null    object\n",
      " 5   end_date       205 non-null    object\n",
      "dtypes: object(6)\n",
      "memory usage: 28.6+ KB\n"
     ]
    },
    {
     "name": "stderr",
     "output_type": "stream",
     "text": [
      "/tmp/ipykernel_78417/3156127547.py:1: UserWarning: Parsing dates in DD/MM/YYYY format when dayfirst=False (the default) was specified. This may lead to inconsistently parsed dates! Specify a format to ensure consistent parsing.\n",
      "  part2 = pd.read_csv('datasets/part_2_for_merge.csv', parse_dates=[4, 5])\n",
      "/tmp/ipykernel_78417/3156127547.py:1: UserWarning: Parsing dates in DD/MM/YYYY format when dayfirst=False (the default) was specified. This may lead to inconsistently parsed dates! Specify a format to ensure consistent parsing.\n",
      "  part2 = pd.read_csv('datasets/part_2_for_merge.csv', parse_dates=[4, 5])\n"
     ]
    }
   ],
   "source": [
    "part2 = pd.read_csv('datasets/part_2_for_merge.csv', parse_dates=[4, 5])\n",
    "part2.info()"
   ]
  },
  {
   "cell_type": "code",
   "execution_count": 291,
   "metadata": {},
   "outputs": [
    {
     "data": {
      "text/html": [
       "<div>\n",
       "<style scoped>\n",
       "    .dataframe tbody tr th:only-of-type {\n",
       "        vertical-align: middle;\n",
       "    }\n",
       "\n",
       "    .dataframe tbody tr th {\n",
       "        vertical-align: top;\n",
       "    }\n",
       "\n",
       "    .dataframe thead th {\n",
       "        text-align: right;\n",
       "    }\n",
       "</style>\n",
       "<table border=\"1\" class=\"dataframe\">\n",
       "  <thead>\n",
       "    <tr style=\"text-align: right;\">\n",
       "      <th></th>\n",
       "      <th>description</th>\n",
       "      <th>requirements</th>\n",
       "      <th>stages</th>\n",
       "      <th>delivery_time</th>\n",
       "      <th>start_date</th>\n",
       "      <th>end_date</th>\n",
       "    </tr>\n",
       "  </thead>\n",
       "  <tbody>\n",
       "    <tr>\n",
       "      <th>0</th>\n",
       "      <td>Проект &lt;&lt;Хиннин&gt;&gt;, расположенный в городе Цзян...</td>\n",
       "      <td>Этот тендер будет состоять из первого сегмента...</td>\n",
       "      <td>четыре сегмента: 1-й пункт: кузов; 2-й участок...</td>\n",
       "      <td>Предварительный 15 августа 2023 года; срок око...</td>\n",
       "      <td>15.08.2023</td>\n",
       "      <td>NaN</td>\n",
       "    </tr>\n",
       "    <tr>\n",
       "      <th>1</th>\n",
       "      <td>Закупка оборудования для фотоаппаратов УНИТА в...</td>\n",
       "      <td>Участники торгов предоставили три комплекта ка...</td>\n",
       "      <td>2</td>\n",
       "      <td>до 10 июня 2023 года</td>\n",
       "      <td>NaN</td>\n",
       "      <td>NaN</td>\n",
       "    </tr>\n",
       "    <tr>\n",
       "      <th>2</th>\n",
       "      <td>Общий контрактный проект PC в 1 млн кВт-диапаз...</td>\n",
       "      <td>Упаковка 1: первый этап проекта генерального п...</td>\n",
       "      <td>четыре сегмента</td>\n",
       "      <td>Планируемый период работы составляет с 15 авгу...</td>\n",
       "      <td>15.08.2023</td>\n",
       "      <td>30.12.2023</td>\n",
       "    </tr>\n",
       "  </tbody>\n",
       "</table>\n",
       "</div>"
      ],
      "text/plain": [
       "                                         description  \\\n",
       "0  Проект <<Хиннин>>, расположенный в городе Цзян...   \n",
       "1  Закупка оборудования для фотоаппаратов УНИТА в...   \n",
       "2  Общий контрактный проект PC в 1 млн кВт-диапаз...   \n",
       "\n",
       "                                        requirements  \\\n",
       "0  Этот тендер будет состоять из первого сегмента...   \n",
       "1  Участники торгов предоставили три комплекта ка...   \n",
       "2  Упаковка 1: первый этап проекта генерального п...   \n",
       "\n",
       "                                              stages  \\\n",
       "0  четыре сегмента: 1-й пункт: кузов; 2-й участок...   \n",
       "1                                                  2   \n",
       "2                                    четыре сегмента   \n",
       "\n",
       "                                       delivery_time  start_date    end_date  \n",
       "0  Предварительный 15 августа 2023 года; срок око...  15.08.2023         NaN  \n",
       "1                               до 10 июня 2023 года         NaN         NaN  \n",
       "2  Планируемый период работы составляет с 15 авгу...  15.08.2023  30.12.2023  "
      ]
     },
     "execution_count": 291,
     "metadata": {},
     "output_type": "execute_result"
    }
   ],
   "source": [
    "part2.head(3)"
   ]
  },
  {
   "cell_type": "code",
   "execution_count": 292,
   "metadata": {},
   "outputs": [
    {
     "name": "stdout",
     "output_type": "stream",
     "text": [
      "<class 'pandas.core.frame.DataFrame'>\n",
      "RangeIndex: 608 entries, 0 to 607\n",
      "Data columns (total 1 columns):\n",
      " #   Column  Non-Null Count  Dtype  \n",
      "---  ------  --------------  -----  \n",
      " 0   price   598 non-null    float64\n",
      "dtypes: float64(1)\n",
      "memory usage: 4.9 KB\n"
     ]
    }
   ],
   "source": [
    "price = pd.read_csv('datasets/clear_price.csv')\n",
    "price.info()"
   ]
  },
  {
   "cell_type": "code",
   "execution_count": 293,
   "metadata": {},
   "outputs": [],
   "source": [
    "data_full = data_merge[['CGN','text']].join(part1.set_axis(data_merge.index)).join(part2.set_axis(data_merge.index))\n",
    "data_full['price'] = price"
   ]
  },
  {
   "cell_type": "code",
   "execution_count": 294,
   "metadata": {},
   "outputs": [
    {
     "data": {
      "text/html": [
       "<div>\n",
       "<style scoped>\n",
       "    .dataframe tbody tr th:only-of-type {\n",
       "        vertical-align: middle;\n",
       "    }\n",
       "\n",
       "    .dataframe tbody tr th {\n",
       "        vertical-align: top;\n",
       "    }\n",
       "\n",
       "    .dataframe thead th {\n",
       "        text-align: right;\n",
       "    }\n",
       "</style>\n",
       "<table border=\"1\" class=\"dataframe\">\n",
       "  <thead>\n",
       "    <tr style=\"text-align: right;\">\n",
       "      <th></th>\n",
       "      <th>CGN</th>\n",
       "      <th>text</th>\n",
       "      <th>location</th>\n",
       "      <th>product</th>\n",
       "      <th>tender_number</th>\n",
       "      <th>tender_company</th>\n",
       "      <th>description</th>\n",
       "      <th>requirements</th>\n",
       "      <th>stages</th>\n",
       "      <th>delivery_time</th>\n",
       "      <th>start_date</th>\n",
       "      <th>end_date</th>\n",
       "      <th>price</th>\n",
       "    </tr>\n",
       "  </thead>\n",
       "  <tbody>\n",
       "    <tr>\n",
       "      <th>0</th>\n",
       "      <td>202305310008</td>\n",
       "      <td>\\n20230731_12345\\nКитайский документ 22-9trans...</td>\n",
       "      <td>Гуандун, Чжунцин, Каннинг</td>\n",
       "      <td>оборудование для замены коробок</td>\n",
       "      <td>CGN-202305310008</td>\n",
       "      <td>Новая энергетическая компания</td>\n",
       "      <td>Проект &lt;&lt;Хиннин&gt;&gt;, расположенный в городе Цзян...</td>\n",
       "      <td>Этот тендер будет состоять из первого сегмента...</td>\n",
       "      <td>четыре сегмента: 1-й пункт: кузов; 2-й участок...</td>\n",
       "      <td>Предварительный 15 августа 2023 года; срок око...</td>\n",
       "      <td>15.08.2023</td>\n",
       "      <td>NaN</td>\n",
       "      <td>3591735.0</td>\n",
       "    </tr>\n",
       "    <tr>\n",
       "      <th>1</th>\n",
       "      <td>202211140006</td>\n",
       "      <td>\\n20230731_12345\\nКитайский документ 85-8trans...</td>\n",
       "      <td>Немонгольский автономный район, УНИТА, правый ...</td>\n",
       "      <td>оборудование для оптических камер</td>\n",
       "      <td>CGN-202211140006</td>\n",
       "      <td>Новая энергетическая компания</td>\n",
       "      <td>Закупка оборудования для фотоаппаратов УНИТА в...</td>\n",
       "      <td>Участники торгов предоставили три комплекта ка...</td>\n",
       "      <td>2</td>\n",
       "      <td>до 10 июня 2023 года</td>\n",
       "      <td>NaN</td>\n",
       "      <td>NaN</td>\n",
       "      <td>64806000.0</td>\n",
       "    </tr>\n",
       "    <tr>\n",
       "      <th>2</th>\n",
       "      <td>202307050014</td>\n",
       "      <td>\\n20230731_12345\\nКитайский документ 8-8trans....</td>\n",
       "      <td>Синьцзян-Уйгурский автономный район и Тэгу, ок...</td>\n",
       "      <td>1 млн. кВт оптико-волнового поля PC</td>\n",
       "      <td>CGN-202307050014</td>\n",
       "      <td>China Solar Energy Successing Ltd.</td>\n",
       "      <td>Общий контрактный проект PC в 1 млн кВт-диапаз...</td>\n",
       "      <td>Упаковка 1: первый этап проекта генерального п...</td>\n",
       "      <td>четыре сегмента</td>\n",
       "      <td>Планируемый период работы составляет с 15 авгу...</td>\n",
       "      <td>15.08.2023</td>\n",
       "      <td>30.12.2023</td>\n",
       "      <td>666628967.0</td>\n",
       "    </tr>\n",
       "  </tbody>\n",
       "</table>\n",
       "</div>"
      ],
      "text/plain": [
       "            CGN                                               text  \\\n",
       "0  202305310008  \\n20230731_12345\\nКитайский документ 22-9trans...   \n",
       "1  202211140006  \\n20230731_12345\\nКитайский документ 85-8trans...   \n",
       "2  202307050014  \\n20230731_12345\\nКитайский документ 8-8trans....   \n",
       "\n",
       "                                            location  \\\n",
       "0                          Гуандун, Чжунцин, Каннинг   \n",
       "1  Немонгольский автономный район, УНИТА, правый ...   \n",
       "2  Синьцзян-Уйгурский автономный район и Тэгу, ок...   \n",
       "\n",
       "                               product     tender_number  \\\n",
       "0      оборудование для замены коробок  CGN-202305310008   \n",
       "1    оборудование для оптических камер  CGN-202211140006   \n",
       "2  1 млн. кВт оптико-волнового поля PC  CGN-202307050014   \n",
       "\n",
       "                       tender_company  \\\n",
       "0       Новая энергетическая компания   \n",
       "1       Новая энергетическая компания   \n",
       "2  China Solar Energy Successing Ltd.   \n",
       "\n",
       "                                         description  \\\n",
       "0  Проект <<Хиннин>>, расположенный в городе Цзян...   \n",
       "1  Закупка оборудования для фотоаппаратов УНИТА в...   \n",
       "2  Общий контрактный проект PC в 1 млн кВт-диапаз...   \n",
       "\n",
       "                                        requirements  \\\n",
       "0  Этот тендер будет состоять из первого сегмента...   \n",
       "1  Участники торгов предоставили три комплекта ка...   \n",
       "2  Упаковка 1: первый этап проекта генерального п...   \n",
       "\n",
       "                                              stages  \\\n",
       "0  четыре сегмента: 1-й пункт: кузов; 2-й участок...   \n",
       "1                                                  2   \n",
       "2                                    четыре сегмента   \n",
       "\n",
       "                                       delivery_time  start_date    end_date  \\\n",
       "0  Предварительный 15 августа 2023 года; срок око...  15.08.2023         NaN   \n",
       "1                               до 10 июня 2023 года         NaN         NaN   \n",
       "2  Планируемый период работы составляет с 15 авгу...  15.08.2023  30.12.2023   \n",
       "\n",
       "         price  \n",
       "0    3591735.0  \n",
       "1   64806000.0  \n",
       "2  666628967.0  "
      ]
     },
     "execution_count": 294,
     "metadata": {},
     "output_type": "execute_result"
    }
   ],
   "source": [
    "data_full.head(3)"
   ]
  },
  {
   "cell_type": "code",
   "execution_count": 362,
   "metadata": {},
   "outputs": [
    {
     "name": "stdout",
     "output_type": "stream",
     "text": [
      "<class 'pandas.core.frame.DataFrame'>\n",
      "Int64Index: 608 entries, 0 to 607\n",
      "Data columns (total 13 columns):\n",
      " #   Column          Non-Null Count  Dtype  \n",
      "---  ------          --------------  -----  \n",
      " 0   CGN             608 non-null    object \n",
      " 1   text            608 non-null    object \n",
      " 2   location        581 non-null    object \n",
      " 3   product         571 non-null    object \n",
      " 4   tender_number   574 non-null    object \n",
      " 5   tender_company  339 non-null    object \n",
      " 6   description     414 non-null    object \n",
      " 7   requirements    360 non-null    object \n",
      " 8   stages          258 non-null    object \n",
      " 9   delivery_time   316 non-null    object \n",
      " 10  start_date      230 non-null    object \n",
      " 11  end_date        205 non-null    object \n",
      " 12  price           598 non-null    float64\n",
      "dtypes: float64(1), object(12)\n",
      "memory usage: 82.7+ KB\n"
     ]
    }
   ],
   "source": [
    "data_full.info()"
   ]
  },
  {
   "cell_type": "code",
   "execution_count": 369,
   "metadata": {},
   "outputs": [],
   "source": [
    "def count_nulls(row):\n",
    "    return ((row['location'] == 'не указано') +\n",
    "           (row['product'] == 'не указано') +\n",
    "           (row['tender_company'] == 'не указано') +\n",
    "           (row['description'] == 'не указано') +\n",
    "           (row['requirements'] == 'не указано') +\n",
    "           (row['stages'] == 'не указано'))"
   ]
  },
  {
   "cell_type": "code",
   "execution_count": 370,
   "metadata": {},
   "outputs": [],
   "source": [
    "data_full_nulls = data_full.copy()[['text', 'location', 'product', 'tender_company', 'description', 'requirements', 'stages','price']]\n",
    "data_full_nulls = data_full_nulls[data_full_nulls['price'] < 10**10]\n",
    "data_full_nulls[['text', 'location', 'product', 'tender_company', 'description', 'requirements', 'stages']] = data_full_nulls[['text', 'location', 'product', 'tender_company', 'description', 'requirements', 'stages']].fillna('не указано')"
   ]
  },
  {
   "cell_type": "code",
   "execution_count": 371,
   "metadata": {},
   "outputs": [],
   "source": [
    "data_full_nulls['nulls'] = data_full_nulls.apply(count_nulls, axis=1)"
   ]
  },
  {
   "cell_type": "code",
   "execution_count": 372,
   "metadata": {},
   "outputs": [],
   "source": [
    "data_full_nulls = data_full_nulls[data_full_nulls['nulls'] < 4].reset_index()"
   ]
  },
  {
   "cell_type": "code",
   "execution_count": 373,
   "metadata": {},
   "outputs": [
    {
     "name": "stdout",
     "output_type": "stream",
     "text": [
      "<class 'pandas.core.frame.DataFrame'>\n",
      "RangeIndex: 499 entries, 0 to 498\n",
      "Data columns (total 10 columns):\n",
      " #   Column          Non-Null Count  Dtype  \n",
      "---  ------          --------------  -----  \n",
      " 0   index           499 non-null    int64  \n",
      " 1   text            499 non-null    object \n",
      " 2   location        499 non-null    object \n",
      " 3   product         499 non-null    object \n",
      " 4   tender_company  499 non-null    object \n",
      " 5   description     499 non-null    object \n",
      " 6   requirements    499 non-null    object \n",
      " 7   stages          499 non-null    object \n",
      " 8   price           499 non-null    float64\n",
      " 9   nulls           499 non-null    int64  \n",
      "dtypes: float64(1), int64(2), object(7)\n",
      "memory usage: 39.1+ KB\n"
     ]
    }
   ],
   "source": [
    "data_full_nulls.info()"
   ]
  },
  {
   "cell_type": "code",
   "execution_count": 374,
   "metadata": {},
   "outputs": [],
   "source": [
    "class VectorStore:\n",
    "    def __init__(self, model, size):\n",
    "        self.documents = []\n",
    "        self.embeddings = np.empty(size)\n",
    "        self.model = model  \n",
    "\n",
    "    def add_to_store(self, document):\n",
    "        self.documents.append(document)\n",
    "        embedding = self.model.encode(document, convert_to_numpy=True, normalize_embeddings=True, show_progress_bar=False, batch_size=32)\n",
    "        self.embeddings = np.vstack((self.embeddings, embedding))"
   ]
  },
  {
   "cell_type": "code",
   "execution_count": 375,
   "metadata": {},
   "outputs": [],
   "source": [
    "# model_name = 'sentence-transformers/all-MiniLM-L12-v2'\n",
    "# model_name = 'embaas/sentence-transformers-e5-large-v2'\n",
    "model_name = 'sentence-transformers/paraphrase-multilingual-MiniLM-L12-v2'\n",
    "# model_name = 'cointegrated/rut5-base'\n",
    "# model_name = 'sentence-transformers/LaBSE'"
   ]
  },
  {
   "cell_type": "code",
   "execution_count": 376,
   "metadata": {},
   "outputs": [
    {
     "data": {
      "text/plain": [
       "device(type='cuda')"
      ]
     },
     "execution_count": 376,
     "metadata": {},
     "output_type": "execute_result"
    }
   ],
   "source": [
    "device = torch.device(\"cuda\")\n",
    "device"
   ]
  },
  {
   "cell_type": "code",
   "execution_count": 377,
   "metadata": {},
   "outputs": [
    {
     "data": {
      "text/plain": [
       "SentenceTransformer(\n",
       "  (0): Transformer({'max_seq_length': 128, 'do_lower_case': False}) with Transformer model: BertModel \n",
       "  (1): Pooling({'word_embedding_dimension': 384, 'pooling_mode_cls_token': True, 'pooling_mode_mean_tokens': False, 'pooling_mode_max_tokens': False, 'pooling_mode_mean_sqrt_len_tokens': False})\n",
       ")"
      ]
     },
     "execution_count": 377,
     "metadata": {},
     "output_type": "execute_result"
    }
   ],
   "source": [
    "lm_model = SentenceTransformer(model_name, device=device)\n",
    "lm_model[1].pooling_mode_mean_tokens = False\n",
    "lm_model[1].pooling_mode_cls_token = True\n",
    "lm_model"
   ]
  },
  {
   "cell_type": "code",
   "execution_count": 378,
   "metadata": {},
   "outputs": [
    {
     "data": {
      "text/plain": [
       "Index(['index', 'text', 'location', 'product', 'tender_company', 'description',\n",
       "       'requirements', 'stages', 'price', 'nulls'],\n",
       "      dtype='object')"
      ]
     },
     "execution_count": 378,
     "metadata": {},
     "output_type": "execute_result"
    }
   ],
   "source": [
    "data_full_nulls.columns"
   ]
  },
  {
   "cell_type": "code",
   "execution_count": 379,
   "metadata": {},
   "outputs": [],
   "source": [
    "cols = ['text', 'location', 'product', 'tender_company', 'description', 'requirements', 'stages']"
   ]
  },
  {
   "cell_type": "code",
   "execution_count": 380,
   "metadata": {},
   "outputs": [
    {
     "name": "stderr",
     "output_type": "stream",
     "text": [
      "100%|█████████████████████████████████████████| 499/499 [00:05<00:00, 93.29it/s]\n",
      "100%|████████████████████████████████████████| 499/499 [00:03<00:00, 145.10it/s]\n",
      "100%|████████████████████████████████████████| 499/499 [00:03<00:00, 144.92it/s]\n",
      "100%|████████████████████████████████████████| 499/499 [00:03<00:00, 150.33it/s]\n",
      "100%|████████████████████████████████████████| 499/499 [00:03<00:00, 140.51it/s]\n",
      "100%|████████████████████████████████████████| 499/499 [00:03<00:00, 141.09it/s]\n",
      "100%|████████████████████████████████████████| 499/499 [00:03<00:00, 149.37it/s]\n"
     ]
    }
   ],
   "source": [
    "stores = []\n",
    "for col in cols:\n",
    "    store = VectorStore(lm_model, size=(0, lm_model[1].word_embedding_dimension)) \n",
    "    for j in tqdm(range(data_full_nulls.shape[0])):\n",
    "        store.add_to_store(data_full_nulls[col][j])\n",
    "    stores.append(store)"
   ]
  },
  {
   "cell_type": "code",
   "execution_count": 381,
   "metadata": {},
   "outputs": [
    {
     "data": {
      "text/plain": [
       "(499, 384)"
      ]
     },
     "execution_count": 381,
     "metadata": {},
     "output_type": "execute_result"
    }
   ],
   "source": [
    "stores[0].embeddings.shape"
   ]
  },
  {
   "cell_type": "code",
   "execution_count": 382,
   "metadata": {},
   "outputs": [
    {
     "data": {
      "text/plain": [
       "2688"
      ]
     },
     "execution_count": 382,
     "metadata": {},
     "output_type": "execute_result"
    }
   ],
   "source": [
    "data_full_emb = pd.DataFrame(stores[0].embeddings)\n",
    "data_full_emb.columns = data_full_emb.columns.map(lambda x: str(x) + '_0')\n",
    "for i in range(1, len(stores)):\n",
    "    temp_df = pd.DataFrame(stores[i].embeddings)\n",
    "    temp_df.columns = temp_df.columns.map(lambda x: str(x) + f'_{i}')\n",
    "    data_full_emb = data_full_emb.join(temp_df.set_axis(data_full_emb.index), lsuffix=f'_{i}')\n",
    "data_full_emb.shape[1]"
   ]
  },
  {
   "cell_type": "code",
   "execution_count": 383,
   "metadata": {},
   "outputs": [],
   "source": [
    "data_full_emb['price'] = data_full_nulls['price']"
   ]
  },
  {
   "cell_type": "code",
   "execution_count": 384,
   "metadata": {},
   "outputs": [
    {
     "data": {
      "text/plain": [
       "((399, 2689), (50, 2689), (50, 2689))"
      ]
     },
     "execution_count": 384,
     "metadata": {},
     "output_type": "execute_result"
    }
   ],
   "source": [
    "train, valid = train_test_split(data_full_emb, test_size=0.2, random_state=42)\n",
    "valid, test = train_test_split(valid, test_size=0.5, random_state=42)\n",
    "train.shape, valid.shape, test.shape"
   ]
  },
  {
   "cell_type": "code",
   "execution_count": 385,
   "metadata": {},
   "outputs": [],
   "source": [
    "X_train = train.drop('price', axis=1)\n",
    "y_train = train['price']\n",
    "X_valid = valid.drop('price', axis=1)\n",
    "y_valid = valid['price']\n",
    "X_test = test.drop('price', axis=1)\n",
    "y_test = test['price']"
   ]
  },
  {
   "cell_type": "code",
   "execution_count": 386,
   "metadata": {},
   "outputs": [
    {
     "data": {
      "text/plain": [
       "169442293.84300002"
      ]
     },
     "execution_count": 386,
     "metadata": {},
     "output_type": "execute_result"
    }
   ],
   "source": [
    "y_valid.mean()"
   ]
  },
  {
   "cell_type": "code",
   "execution_count": 410,
   "metadata": {},
   "outputs": [],
   "source": [
    "seq_model = models.Sequential([\n",
    "    layers.Dense(units=(64), input_shape=(X_train.shape[1],), activation='relu'),\n",
    "    layers.Dense(units=(32), activation='relu'),\n",
    "    layers.Dense(units=1)\n",
    "])"
   ]
  },
  {
   "cell_type": "code",
   "execution_count": 411,
   "metadata": {},
   "outputs": [
    {
     "name": "stdout",
     "output_type": "stream",
     "text": [
      "CPU times: user 15.5 s, sys: 3.01 s, total: 18.5 s\n",
      "Wall time: 5.85 s\n"
     ]
    },
    {
     "data": {
      "text/plain": [
       "<keras.src.callbacks.History at 0x7f4fd28f6440>"
      ]
     },
     "execution_count": 411,
     "metadata": {},
     "output_type": "execute_result"
    }
   ],
   "source": [
    "%%time\n",
    "seq_model.compile(optimizer='Adam', loss='mse', metrics=['mae'])\n",
    "seq_model.fit(X_train, y_train, epochs=500, verbose=0)"
   ]
  },
  {
   "cell_type": "code",
   "execution_count": 412,
   "metadata": {},
   "outputs": [
    {
     "name": "stdout",
     "output_type": "stream",
     "text": [
      "MAE: 163512375.0\n"
     ]
    },
    {
     "data": {
      "text/plain": [
       "count       0.000050\n",
       "mean      163.237506\n",
       "std       734.376494\n",
       "min         0.254081\n",
       "25%         5.468040\n",
       "50%         9.553063\n",
       "75%        33.858919\n",
       "max      5077.715277\n",
       "Name: price, dtype: float64"
      ]
     },
     "execution_count": 412,
     "metadata": {},
     "output_type": "execute_result"
    }
   ],
   "source": [
    "pred_valid = seq_model.predict(X_valid, verbose=0)\n",
    "print('MAE:', mean_absolute_error(y_valid, pred_valid).round())\n",
    "(y_valid-pred_valid[0]).abs().describe() / 10 ** 6"
   ]
  },
  {
   "cell_type": "code",
   "execution_count": 407,
   "metadata": {},
   "outputs": [
    {
     "data": {
      "text/plain": [
       "count       0.000050\n",
       "mean      163.175234\n",
       "std       734.122267\n",
       "min         0.124558\n",
       "25%         5.582165\n",
       "50%        10.787424\n",
       "75%        32.624558\n",
       "max      5076.480916\n",
       "Name: price, dtype: float64"
      ]
     },
     "execution_count": 407,
     "metadata": {},
     "output_type": "execute_result"
    }
   ],
   "source": [
    "(y_valid-y_valid.median()).abs().describe() / 10 ** 6"
   ]
  },
  {
   "cell_type": "code",
   "execution_count": null,
   "metadata": {},
   "outputs": [],
   "source": []
  },
  {
   "cell_type": "code",
   "execution_count": null,
   "metadata": {},
   "outputs": [],
   "source": []
  },
  {
   "cell_type": "code",
   "execution_count": null,
   "metadata": {},
   "outputs": [],
   "source": []
  },
  {
   "cell_type": "code",
   "execution_count": null,
   "metadata": {},
   "outputs": [],
   "source": []
  },
  {
   "cell_type": "code",
   "execution_count": 395,
   "metadata": {},
   "outputs": [],
   "source": [
    "reg = LinearRegression().fit(X_train, y_train)"
   ]
  },
  {
   "cell_type": "code",
   "execution_count": 396,
   "metadata": {},
   "outputs": [
    {
     "data": {
      "text/plain": [
       "1.4397659858565997e+17"
      ]
     },
     "execution_count": 396,
     "metadata": {},
     "output_type": "execute_result"
    }
   ],
   "source": [
    "pred_valid = reg.predict(X_valid)\n",
    "mean_absolute_error(y_valid, pred_valid)"
   ]
  },
  {
   "cell_type": "code",
   "execution_count": 397,
   "metadata": {},
   "outputs": [
    {
     "name": "stdout",
     "output_type": "stream",
     "text": [
      "Learning rate set to 0.035411\n",
      "0:\tlearn: 337653325.7884295\ttotal: 92.8ms\tremaining: 1m 32s\n",
      "250:\tlearn: 70345433.0928211\ttotal: 20.8s\tremaining: 1m 2s\n",
      "500:\tlearn: 13763609.1892927\ttotal: 41.4s\tremaining: 41.2s\n",
      "750:\tlearn: 3441022.0623790\ttotal: 1m 2s\tremaining: 20.6s\n",
      "999:\tlearn: 1396137.0637531\ttotal: 1m 22s\tremaining: 0us\n",
      "CPU times: user 15min 42s, sys: 5.6 s, total: 15min 48s\n",
      "Wall time: 1min 23s\n"
     ]
    }
   ],
   "source": [
    "%%time\n",
    "cat_model = CatBoostRegressor(iterations=1000)\n",
    "# Fit model\n",
    "cat_model.fit(X_train, y_train, verbose=250)\n",
    "# Get predictions\n",
    "preds = cat_model.predict(X_valid)"
   ]
  },
  {
   "cell_type": "code",
   "execution_count": 398,
   "metadata": {},
   "outputs": [
    {
     "data": {
      "text/plain": [
       "174091584.18911964"
      ]
     },
     "execution_count": 398,
     "metadata": {},
     "output_type": "execute_result"
    }
   ],
   "source": [
    "mean_absolute_error(y_valid, preds)"
   ]
  },
  {
   "cell_type": "markdown",
   "metadata": {},
   "source": [
    "### Тест"
   ]
  },
  {
   "cell_type": "code",
   "execution_count": 413,
   "metadata": {},
   "outputs": [
    {
     "data": {
      "text/plain": [
       "count      0.000050\n",
       "mean      69.723868\n",
       "std      168.415750\n",
       "min        0.279403\n",
       "25%        4.827568\n",
       "50%        8.356079\n",
       "75%       31.292074\n",
       "max      659.058960\n",
       "Name: price, dtype: float64"
      ]
     },
     "execution_count": 413,
     "metadata": {},
     "output_type": "execute_result"
    }
   ],
   "source": [
    "pred_test = seq_model.predict(X_test, verbose=0)\n",
    "(y_test-pred_test[0]).abs().describe() / 10 ** 6"
   ]
  },
  {
   "cell_type": "code",
   "execution_count": 414,
   "metadata": {},
   "outputs": [
    {
     "data": {
      "text/plain": [
       "count      0.000050\n",
       "mean      69.601445\n",
       "std      167.232454\n",
       "min        0.185380\n",
       "25%        6.627749\n",
       "50%       10.900000\n",
       "75%       28.046129\n",
       "max      655.813014\n",
       "Name: price, dtype: float64"
      ]
     },
     "execution_count": 414,
     "metadata": {},
     "output_type": "execute_result"
    }
   ],
   "source": [
    "(y_test-y_test.median()).abs().describe() / 10 ** 6"
   ]
  },
  {
   "cell_type": "code",
   "execution_count": null,
   "metadata": {},
   "outputs": [],
   "source": []
  }
 ],
 "metadata": {
  "kernelspec": {
   "display_name": "Python 3 (ipykernel)",
   "language": "python",
   "name": "python3"
  },
  "language_info": {
   "codemirror_mode": {
    "name": "ipython",
    "version": 3
   },
   "file_extension": ".py",
   "mimetype": "text/x-python",
   "name": "python",
   "nbconvert_exporter": "python",
   "pygments_lexer": "ipython3",
   "version": "3.10.12"
  }
 },
 "nbformat": 4,
 "nbformat_minor": 4
}
