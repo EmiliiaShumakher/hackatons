{
 "cells": [
  {
   "cell_type": "code",
   "execution_count": 1,
   "id": "401acb99-a7f2-4b29-b34e-bdb121704e35",
   "metadata": {},
   "outputs": [],
   "source": [
    "import pandas as pd\n",
    "from kor.extraction import create_extraction_chain\n",
    "from kor.nodes import Object, Text, Number\n",
    "from langchain.callbacks.manager import CallbackManager\n",
    "from langchain.callbacks.streaming_stdout import StreamingStdOutCallbackHandler\n",
    "from langchain.llms import LlamaCpp\n",
    "from tqdm import tqdm"
   ]
  },
  {
   "cell_type": "code",
   "execution_count": 2,
   "id": "797f27a9-0918-498d-a6a9-693dbf6a6883",
   "metadata": {},
   "outputs": [],
   "source": [
    "df = pd.read_csv('./data_merge.csv')"
   ]
  },
  {
   "cell_type": "code",
   "execution_count": 5,
   "id": "d807e9f5",
   "metadata": {},
   "outputs": [],
   "source": [
    "df['part_3'] = [x.split('III')[-1] for x in df['text']]"
   ]
  },
  {
   "cell_type": "code",
   "execution_count": null,
   "id": "2ed5b4f7",
   "metadata": {},
   "outputs": [],
   "source": [
    "llm = LlamaCpp(\n",
    "    model_path=\"../models/Mixtral-8x7B-Instruct-v0.1-GGUF/mixtral-8x7b-instruct-v0.1.Q6_K.gguf\",\n",
    "    n_gpu_layers=50,\n",
    "    n_batch=512,\n",
    "    n_ctx=3500,\n",
    "    f16_kv=True,\n",
    "    callback_manager=CallbackManager([StreamingStdOutCallbackHandler()]),\n",
    "    verbose=True,\n",
    "    temperature = 0\n",
    ")"
   ]
  },
  {
   "cell_type": "code",
   "execution_count": 20,
   "id": "7b17ec75-aca4-4317-9e67-81b7ae3653bb",
   "metadata": {},
   "outputs": [],
   "source": [
    "schema = Object(\n",
    "    id=\"application_data\",\n",
    "    description=\"Tender application data\",\n",
    "    attributes=[\n",
    "        Text(\n",
    "          id='basic_qualification',\n",
    "          description=\"Basic candidate qualifications\",\n",
    "          examples=[(\"\"\"участник процедур, зарегистрированный на территории Китайской Народной Республики в соответствии с Законом Китайской Народной Республики о компаниях, имеет право\n",
    "            Законодательная власть, предприятия, которые могут предложить продукты и услуги для проекта.\"\"\",\n",
    "                    \"\"\"участник процедур должен быть зарегистрирован на территории Китайской Народной Республики в соответствии с Законом Китайской Народной Республики о компаниях\n",
    "            Независимые юридические лица, предприятия, способные предлагать продукты и услуги для проекта.\"\"\")],\n",
    "            ),\n",
    "        Text(\n",
    "          id='qualification_requirements',\n",
    "          description=\"Qualification requirements\",\n",
    "          examples=[(\"\"\"Генеральный контрактный уровень (или уровень А) и выше в области электротехники.\"\"\",\n",
    "                    \"\"\"Для участия в торгах требуется, чтобы участники торгов обладали такими качествами, как общий контракт на строительство гидроэлектроэнергии и выше. (если в соответствии с\n",
    "Министерство по вопросам городского и сельского строительства в связи с выпуском циркуляра о программе реформы системы управления инженерно-строительными предприятиями в целях повышения квалификации или новых сертификатов для гидроэлектроэнергетики\n",
    "Генеральный контракт на строительство уровня А и выше).\"\"\")],\n",
    "            ),\n",
    "        Text(\n",
    "          id='financial_requirements',\n",
    "          description=\"Financial requirements\",\n",
    "          examples=[(\"\"\"Финансовые требования: аудиторские заключения и финансовые ведомости, представленные зарегистрированной аудиторской фирмой за последние три года (2020-2022 годы)\n",
    "балансовая ведомость, ведомость прибылей, ведомость движения денежной наличности и приложение.\"\"\",\n",
    "                    \"\"\"Отчет о финансовой ревизии за последние три года (2019-2021).\"\"\")],\n",
    "            ),\n",
    "        Text(\n",
    "          id='performance_requirements',\n",
    "          description=\"Performance requirements\",\n",
    "          examples=[(\"\"\"должны иметь историю и результативность как минимум на три года производства товаров или аналогичных товаров. (Оборудование для замены коробки должно быть\n",
    "            Комбинированная или сборная с емкостью 3150 КВА и выше, электрическое давление на 35 КВ и выше.\"\"\",\n",
    "                    \"\"\"в течение почти трех лет (с момента подачи тендерной документации, по крайней мере, одного крана и поставки\n",
    "Установка работы.\"\"\")],\n",
    "            ),\n",
    "        Text(\n",
    "          id='credit_requirements',\n",
    "          description=\"Credit requirements\",\n",
    "          examples=[(\"\"\" участники торгов имеют хорошую банковскую и коммерческую репутацию, не находятся в ситуации, когда им предписывается прекратить работу, захват имущества, замораживание\n",
    "            Конкретно, несостоятельно и не находится в пределах и в течение срока, в течение которого компания &lt; &lt; Чайна холдинг компани лимитед &gt; &gt; ограничила свои предложения.\"\"\",\n",
    "                    \"\"\"не включен в систему раскрытия информации о государственных предприятиях (www.gsxt.gov.cn)\n",
    "                      В список и на веб-сайте «Доверие в Китай» (http://www.creditchina.gov.cn/) не было внесено в список «Посланник с неверием».\"\"\")],\n",
    "            ),\n",
    "        Text(\n",
    "          id='tender_start_date',\n",
    "          description=\"Start date for receiving tender documentation\",\n",
    "          examples=[(\"\"\"07 июня 2023 года, 17:00\"\"\",\n",
    "                    \"\"\"28 декабря 2022 года в 17 ч. 00 м.\"\"\")],\n",
    "            ),\n",
    "        Text(\n",
    "          id='tender_end_date',\n",
    "          description=\"End date for receiving tender documentation\",\n",
    "          examples=[(\"\"\"16 июня 2023 года, 17:00\"\"\",\n",
    "                    \"\"\"06 января 2023 года 17 ч. 30 м.\"\"\")],\n",
    "            ),\n",
    "        Text(\n",
    "          id='trust_requirements',\n",
    "          description=\"Requirement of trust\",\n",
    "          examples=[(\"\"\"не находится в пределах и в течение срока, в течение которого компания &quot; Чайна Хинчжи &quot; ограничивает свои предложения.\"\"\",\n",
    "                    \"\"\"Компания &lt; &lt; Чайна-Групп &gt; &gt; не находится в ограниченном диапазоне и сроках проведения торгов.\"\"\")],\n",
    "            ),  \n",
    "    ],\n",
    "    many=False,\n",
    ")\n"
   ]
  },
  {
   "cell_type": "code",
   "execution_count": 21,
   "id": "134c9744-ae55-4a7e-ba3b-f4f300a78d65",
   "metadata": {},
   "outputs": [],
   "source": [
    "chain = create_extraction_chain(llm, schema,encoder_or_encoder_class='json')"
   ]
  },
  {
   "cell_type": "code",
   "execution_count": 23,
   "id": "5f51eb0b-bfa7-4731-b752-a144eb7eb9a5",
   "metadata": {},
   "outputs": [
    {
     "name": "stderr",
     "output_type": "stream",
     "text": [
      "100%|██████████| 446/446 [23:29<00:00,  3.16s/it]\n"
     ]
    }
   ],
   "source": [
    "result = []\n",
    "for i_text in tqdm(df['part_3']):\n",
    "    try:\n",
    "        ans = chain.run(text=(i_text))\n",
    "        result.append(ans['data'])\n",
    "    except:\n",
    "        result.append({'basic_qualification': '', 'qualification_requirements': '',\n",
    "   'financial_requirements': '', 'performance_requirements': '', 'credit_requirements': '', \n",
    "   'tender_start_date': '',\n",
    "   'tender_end_date': '',})"
   ]
  },
  {
   "cell_type": "code",
   "execution_count": 31,
   "id": "eae223c7-8a6d-4948-a5b8-aefe80441577",
   "metadata": {},
   "outputs": [
    {
     "name": "stderr",
     "output_type": "stream",
     "text": [
      "100%|██████████| 162/162 [00:00<00:00, 1496645.92it/s]\n"
     ]
    }
   ],
   "source": [
    "temp_list = []\n",
    "for i in tqdm(range(len(result))):\n",
    "    if len(result[i]) > 0:\n",
    "        temp_list.append(result[i]['application_data'])"
   ]
  },
  {
   "cell_type": "code",
   "execution_count": 32,
   "id": "94d10c57",
   "metadata": {},
   "outputs": [],
   "source": [
    "temp_df = pd.DataFrame(temp_list)"
   ]
  },
  {
   "cell_type": "code",
   "execution_count": 34,
   "id": "f0414c8e",
   "metadata": {},
   "outputs": [],
   "source": [
    "temp_df.to_csv('./data/part3_for_merge_PART.csv', index=False)"
   ]
  },
  {
   "cell_type": "code",
   "execution_count": null,
   "id": "cd5f6944",
   "metadata": {},
   "outputs": [],
   "source": []
  }
 ],
 "metadata": {
  "kernelspec": {
   "display_name": "Python 3 (ipykernel)",
   "language": "python",
   "name": "python3"
  },
  "language_info": {
   "codemirror_mode": {
    "name": "ipython",
    "version": 3
   },
   "file_extension": ".py",
   "mimetype": "text/x-python",
   "name": "python",
   "nbconvert_exporter": "python",
   "pygments_lexer": "ipython3",
   "version": "3.11.6"
  }
 },
 "nbformat": 4,
 "nbformat_minor": 5
}
