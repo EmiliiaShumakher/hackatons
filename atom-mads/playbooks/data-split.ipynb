{
 "cells": [
  {
   "cell_type": "code",
   "execution_count": 1,
   "metadata": {},
   "outputs": [],
   "source": [
    "import pandas as pd"
   ]
  },
  {
   "cell_type": "code",
   "execution_count": 2,
   "metadata": {},
   "outputs": [],
   "source": [
    "df = pd.read_csv('./data/applic.csv')"
   ]
  },
  {
   "cell_type": "code",
   "execution_count": 11,
   "metadata": {},
   "outputs": [],
   "source": [
    "df['part_1'] = [x.split('II')[0] for x in df['text']]"
   ]
  },
  {
   "cell_type": "code",
   "execution_count": 13,
   "metadata": {},
   "outputs": [],
   "source": [
    "df['part_2'] = [x.split('III')[0] for x in df['text']]\n",
    "df['part_2'] = [x.split('II')[-1] for x in df['part_2']]"
   ]
  },
  {
   "cell_type": "code",
   "execution_count": 15,
   "metadata": {},
   "outputs": [],
   "source": [
    "df['part_3'] = [x.split('III')[-1] for x in df['text']]"
   ]
  },
  {
   "cell_type": "code",
   "execution_count": 17,
   "metadata": {},
   "outputs": [],
   "source": [
    "df.to_csv('./data/applic_splited.csv', index=False)"
   ]
  },
  {
   "cell_type": "code",
   "execution_count": null,
   "metadata": {},
   "outputs": [],
   "source": []
  },
  {
   "cell_type": "code",
   "execution_count": 20,
   "metadata": {},
   "outputs": [
    {
     "name": "stdout",
     "output_type": "stream",
     "text": [
      "\n",
      "20230731_12345\n",
      "Китайский документ 30-8trans.txt\n",
      "Глава I Уведомление о торгах\n",
      "Территория, в которой осуществляется тендерный проект: Хунань, муниципалитет Чжоу\n",
      "Условия торгов\n",
      "Закупка (перезакупка) оборудования для шахматных электростанций в рамках проекта &lt; &lt; Ветер &gt; &gt; , проект &lt; &lt; Наньцзян &gt; &gt; , проект &lt; &lt; Наньцзян &gt; &gt; , проект &lt; &lt; Закупка &gt; &gt; (процент тендер) (номер тендера:\n",
      "CGN-20230522004 был одобрен группой по утверждению, проект финансируется за счет собственных средств предприятия и уже реализован, а торги - за счет широкого распространения ядерного оружия в сельской местности\n",
      "Новая энергетическая компания. В рамках этого проекта уже имеются условия для проведения торгов и в настоящее время проводятся открытые торги.\n",
      "\n"
     ]
    }
   ],
   "source": [
    "print(df['part_1'][55])"
   ]
  },
  {
   "cell_type": "code",
   "execution_count": null,
   "metadata": {},
   "outputs": [],
   "source": []
  },
  {
   "cell_type": "code",
   "execution_count": null,
   "metadata": {},
   "outputs": [],
   "source": []
  },
  {
   "cell_type": "code",
   "execution_count": null,
   "metadata": {},
   "outputs": [],
   "source": []
  }
 ],
 "metadata": {
  "kernelspec": {
   "display_name": "base",
   "language": "python",
   "name": "python3"
  },
  "language_info": {
   "codemirror_mode": {
    "name": "ipython",
    "version": 3
   },
   "file_extension": ".py",
   "mimetype": "text/x-python",
   "name": "python",
   "nbconvert_exporter": "python",
   "pygments_lexer": "ipython3",
   "version": "3.11.6"
  }
 },
 "nbformat": 4,
 "nbformat_minor": 2
}
